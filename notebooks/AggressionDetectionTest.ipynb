{
  "nbformat": 4,
  "nbformat_minor": 0,
  "metadata": {
    "colab": {
      "name": "AggressionDetectionTest.ipynb",
      "provenance": []
    },
    "kernelspec": {
      "name": "python3",
      "display_name": "Python 3"
    },
    "language_info": {
      "name": "python"
    }
  },
  "cells": [
    {
      "cell_type": "code",
      "metadata": {
        "colab": {
          "base_uri": "https://localhost:8080/"
        },
        "id": "iUl4Sbb1ZU6L",
        "outputId": "5d088e72-9baf-4e10-ce99-e8976e808fd4"
      },
      "source": [
        "from google.colab import drive\n",
        "drive.mount('/content/drive')"
      ],
      "execution_count": null,
      "outputs": [
        {
          "output_type": "stream",
          "name": "stdout",
          "text": [
            "Mounted at /content/drive\n"
          ]
        }
      ]
    },
    {
      "cell_type": "code",
      "metadata": {
        "colab": {
          "base_uri": "https://localhost:8080/"
        },
        "id": "jJV_iBqmZWAQ",
        "outputId": "7794d5ca-f95a-4714-89ec-c8d78fac1857"
      },
      "source": [
        "%cd /content/drive/MyDrive/AggDetect/core"
      ],
      "execution_count": null,
      "outputs": [
        {
          "output_type": "stream",
          "name": "stdout",
          "text": [
            "/content/drive/MyDrive/AggDetect/core\n"
          ]
        }
      ]
    },
    {
      "cell_type": "code",
      "metadata": {
        "id": "KMaqbKPBhJds",
        "colab": {
          "base_uri": "https://localhost:8080/"
        },
        "outputId": "c204ed71-3a59-49b7-c100-28f35998336b"
      },
      "source": [
        "# File for giving test predictions\n",
        "# Validation\n",
        "import config\n",
        "import utils\n",
        "import joblib\n",
        "from sklearn import metrics\n",
        "import xgboost\n",
        "import pandas as pd\n",
        "import models\n",
        "import seaborn as sns"
      ],
      "execution_count": null,
      "outputs": [
        {
          "output_type": "stream",
          "name": "stdout",
          "text": [
            "[nltk_data] Downloading package stopwords to /root/nltk_data...\n",
            "[nltk_data]   Unzipping corpora/stopwords.zip.\n"
          ]
        }
      ]
    },
    {
      "cell_type": "code",
      "metadata": {
        "id": "p7iWFTGEhQCj"
      },
      "source": [
        "def test(\n",
        "    clf_pipe,\n",
        "    task_name,\n",
        "    target_map,\n",
        "    string_cleaner,\n",
        "    seed=0,\n",
        "    verbose=True,\n",
        "    flatten=True,\n",
        "):\n",
        "    # Returns Score\n",
        "    if verbose:\n",
        "        print(f\"Testing...{task_name}\")\n",
        "\n",
        "    # Assign Task\n",
        "    test_data = config.TEST_TASK_A if task_name == 'A' else config.TEST_TASK_B\n",
        "\n",
        "    df = pd.read_csv(test_data)\n",
        "\n",
        "    X_val, y_val = utils.get_clean_dataset(\n",
        "        df,\n",
        "        target_map,\n",
        "        train=False,\n",
        "        task_name=task_name,\n",
        "        string_cleaner=string_cleaner,\n",
        "        seed=seed,\n",
        "        shuffle=False\n",
        "    )\n",
        "    # Vectorize\n",
        "\n",
        "    X_val = utils.reshape_training_data(X_val, flatten=flatten)\n",
        "\n",
        "    y_preds = clf_pipe.predict(X_val)\n",
        "    y_true = y_val\n",
        "\n",
        "    #print(X_val, y_val, y_preds, y_true)\n",
        "\n",
        "    # Return classification metrics\n",
        "    return X_val, y_true, y_preds\n",
        "    "
      ],
      "execution_count": null,
      "outputs": []
    },
    {
      "cell_type": "code",
      "metadata": {
        "id": "ZEWBS0WkhUsZ",
        "colab": {
          "base_uri": "https://localhost:8080/"
        },
        "outputId": "bf4ebb83-69d6-4afb-f18a-32fed88318f8"
      },
      "source": [
        "# Script Run\n",
        "if __name__ == '__main__':\n",
        "    # Load model for task 1\n",
        "    utils.seed_all(config.RANDOM_SEED)\n",
        "\n",
        "    # Task 1\n",
        "    task_1_pipe = joblib.load(config.MODEL_SAVE_PATH + 'TASK_A_model.pkl')\n",
        "    X_val_1, Y_true_1, Y_preds_1 = test(\n",
        "            task_1_pipe,\n",
        "            'A',\n",
        "            config.TASK_A_MAP,\n",
        "            utils.clean_one_text,\n",
        "            seed = config.RANDOM_SEED,\n",
        "            verbose=True,\n",
        "        )\n",
        "\n",
        "    # Task 2\n",
        "    task_2_pipe = joblib.load(config.MODEL_SAVE_PATH + 'TASK_B_model.pkl')\n",
        "    X_val_2, Y_true_2, Y_preds_2 = test(\n",
        "            task_2_pipe,\n",
        "            'B',\n",
        "            config.TASK_B_MAP,\n",
        "            utils.clean_one_text,\n",
        "            seed = config.RANDOM_SEED,\n",
        "            verbose=True,\n",
        "        )"
      ],
      "execution_count": null,
      "outputs": [
        {
          "output_type": "stream",
          "name": "stdout",
          "text": [
            "Testing...A\n",
            "Testing...B\n"
          ]
        }
      ]
    },
    {
      "cell_type": "code",
      "metadata": {
        "id": "778MFbER09d_"
      },
      "source": [
        "import matplotlib.pyplot as plt\n",
        "from sklearn.metrics import accuracy_score\n",
        "from sklearn.metrics import confusion_matrix\n",
        "from sklearn.metrics import plot_confusion_matrix\n",
        "from sklearn.metrics import classification_report"
      ],
      "execution_count": null,
      "outputs": []
    },
    {
      "cell_type": "code",
      "metadata": {
        "colab": {
          "base_uri": "https://localhost:8080/"
        },
        "id": "zHTrqFo9NEz5",
        "outputId": "638000e9-cdfa-4ec5-971f-84307ded2322"
      },
      "source": [
        "m1 = confusion_matrix(Y_true_1, Y_preds_1)\n",
        "print(m1)\n",
        "m2 = confusion_matrix(Y_true_2, Y_preds_2)\n",
        "print(m2)\n",
        "print(X_val_1, Y_true_1, Y_preds_1)\n",
        "print(X_val_2, Y_true_2, Y_preds_2)\n"
      ],
      "execution_count": null,
      "outputs": [
        {
          "output_type": "stream",
          "name": "stdout",
          "text": [
            "[[569  74  47]\n",
            " [ 52 112  60]\n",
            " [ 35  55 196]]\n",
            "[[908 117]\n",
            " [ 69 106]]\n",
            "['httpswwwyoutubecomwatchv 4iejjszkflo'\n",
            " 'shame societi cultur tri justifi desir live lifestyl choic against human'\n",
            " 'wanna say no gay gene truli serious cure accept jesu savior gay agenda everywher tv sublimin convinc interest gender oh also demon spiritu well keep dark prevail'\n",
            " ... \"that' law call ass\" 'feminist definit equal whatev benefit women'\n",
            " 'expens whatev'] [0 0 0 ... 0 0 0] [0 1 1 ... 1 2 0]\n",
            "['httpswwwyoutubecomwatchv 4iejjszkflo'\n",
            " 'shame societi cultur tri justifi desir live lifestyl choic against human'\n",
            " 'wanna say no gay gene truli serious cure accept jesu savior gay agenda everywher tv sublimin convinc interest gender oh also demon spiritu well keep dark prevail'\n",
            " ... \"that' law call ass\" 'feminist definit equal whatev benefit women'\n",
            " 'expens whatev'] [0 0 0 ... 0 0 0] [0 0 1 ... 0 0 0]\n"
          ]
        }
      ]
    },
    {
      "cell_type": "code",
      "metadata": {
        "id": "KHltgoU5IzNd"
      },
      "source": [
        "plt.figure(figsize=(8, 8), dpi=400)\n",
        "sns.heatmap(m1, \n",
        "            vmin=None, \n",
        "            vmax=None, \n",
        "            cmap='Reds', \n",
        "            center=None, \n",
        "            robust=False, \n",
        "            annot=True, \n",
        "            fmt='.0f', \n",
        "            annot_kws={\n",
        "                'fontsize':16,\n",
        "                'fontweight':'bold',\n",
        "                #'fontfamily':'serif'\n",
        "                }, \n",
        "            linewidths=1, \n",
        "            linecolor='white', \n",
        "            cbar=True, \n",
        "            cbar_kws=None, \n",
        "            cbar_ax=None, \n",
        "            square=False,\n",
        "            xticklabels='auto',\n",
        "            yticklabels='auto', \n",
        "            mask=None, ax=None)\n",
        "#plt.show();\n",
        "plt.figure(figsize=(8, 8), dpi=400)\n",
        "sns.heatmap(m2, \n",
        "            vmin=None, \n",
        "            vmax=None, \n",
        "            cmap='Blues', \n",
        "            center=None, \n",
        "            robust=False, \n",
        "            annot=True, \n",
        "            fmt='.0f', \n",
        "            annot_kws={\n",
        "                'fontsize':16,\n",
        "                'fontweight':'bold',\n",
        "                #'fontfamily':'serif'\n",
        "                }, \n",
        "            linewidths=1, \n",
        "            linecolor='white', \n",
        "            cbar=True, \n",
        "            cbar_kws=None, \n",
        "            cbar_ax=None, \n",
        "            square=False,\n",
        "            xticklabels='auto',\n",
        "            yticklabels='auto', \n",
        "            mask=None, ax=None)\n",
        "#plt.show();"
      ],
      "execution_count": null,
      "outputs": []
    },
    {
      "cell_type": "code",
      "metadata": {
        "id": "kWyLZC6AaHjW",
        "colab": {
          "base_uri": "https://localhost:8080/"
        },
        "outputId": "6365dada-1754-4f88-a3f5-ec7e030fa1d9"
      },
      "source": [
        "print(classification_report(Y_true_1, Y_preds_1))\n",
        "print(classification_report(Y_true_2, Y_preds_2))"
      ],
      "execution_count": null,
      "outputs": [
        {
          "output_type": "stream",
          "name": "stdout",
          "text": [
            "              precision    recall  f1-score   support\n",
            "\n",
            "           0       0.87      0.82      0.85       690\n",
            "           1       0.46      0.50      0.48       224\n",
            "           2       0.65      0.69      0.67       286\n",
            "\n",
            "    accuracy                           0.73      1200\n",
            "   macro avg       0.66      0.67      0.66      1200\n",
            "weighted avg       0.74      0.73      0.73      1200\n",
            "\n",
            "              precision    recall  f1-score   support\n",
            "\n",
            "           0       0.93      0.89      0.91      1025\n",
            "           1       0.48      0.61      0.53       175\n",
            "\n",
            "    accuracy                           0.84      1200\n",
            "   macro avg       0.70      0.75      0.72      1200\n",
            "weighted avg       0.86      0.84      0.85      1200\n",
            "\n"
          ]
        }
      ]
    },
    {
      "cell_type": "code",
      "metadata": {
        "colab": {
          "base_uri": "https://localhost:8080/"
        },
        "id": "L4arPS6PNoI0",
        "outputId": "1e0acc51-9901-4882-83d2-dcd48754ef65"
      },
      "source": [
        "true_list_1, true_list_2, preds_list_1, preds_list_2 = [], [], [], []\n",
        "\n",
        "for i in Y_true_1:\n",
        "  if i==0:\n",
        "    true_list_1.append(\"NAG\")\n",
        "  elif i==1:\n",
        "    true_list_1.append(\"CAG\")\n",
        "  elif i==2:\n",
        "    true_list_1.append(\"OAG\")\n",
        " \n",
        "for i in Y_true_2:\n",
        "  if i==0:\n",
        "    true_list_2.append(\"NGEN\")\n",
        "  elif i==1:\n",
        "    true_list_2.append(\"GEN\")\n",
        "\n",
        "for i in Y_preds_1:\n",
        "  if i==0:\n",
        "    preds_list_1.append(\"NAG\")\n",
        "  elif i==1:\n",
        "    preds_list_1.append(\"CAG\")\n",
        "  elif i==2:\n",
        "    preds_list_1.append(\"OAG\")\n",
        " \n",
        "for i in Y_preds_2:\n",
        "  if i==0:\n",
        "    preds_list_2.append(\"NGEN\")\n",
        "  elif i==1:\n",
        "    preds_list_2.append(\"GEN\")\n",
        "\n",
        "print(Y_true_1, true_list_1)\n",
        "print(Y_true_2, true_list_2)\n",
        "print(Y_preds_1, preds_list_1)\n",
        "print(Y_preds_2, preds_list_2)"
      ],
      "execution_count": null,
      "outputs": [
        {
          "output_type": "stream",
          "name": "stdout",
          "text": [
            "[0 0 0 ... 0 0 0] ['NAG', 'NAG', 'NAG', 'NAG', 'NAG', 'NAG', 'NAG', 'NAG', 'NAG', 'NAG', 'CAG', 'NAG', 'NAG', 'NAG', 'NAG', 'NAG', 'NAG', 'NAG', 'NAG', 'NAG', 'NAG', 'NAG', 'OAG', 'NAG', 'NAG', 'NAG', 'NAG', 'NAG', 'NAG', 'NAG', 'NAG', 'NAG', 'NAG', 'NAG', 'NAG', 'NAG', 'NAG', 'NAG', 'NAG', 'NAG', 'OAG', 'NAG', 'NAG', 'NAG', 'NAG', 'NAG', 'NAG', 'NAG', 'NAG', 'NAG', 'NAG', 'NAG', 'NAG', 'NAG', 'NAG', 'NAG', 'NAG', 'NAG', 'NAG', 'NAG', 'NAG', 'NAG', 'NAG', 'NAG', 'NAG', 'NAG', 'NAG', 'NAG', 'NAG', 'NAG', 'NAG', 'NAG', 'NAG', 'NAG', 'NAG', 'NAG', 'NAG', 'NAG', 'NAG', 'NAG', 'NAG', 'NAG', 'NAG', 'NAG', 'NAG', 'NAG', 'NAG', 'NAG', 'NAG', 'NAG', 'NAG', 'NAG', 'NAG', 'NAG', 'NAG', 'NAG', 'NAG', 'NAG', 'NAG', 'NAG', 'NAG', 'NAG', 'NAG', 'NAG', 'NAG', 'NAG', 'NAG', 'NAG', 'NAG', 'NAG', 'NAG', 'NAG', 'NAG', 'NAG', 'NAG', 'NAG', 'NAG', 'NAG', 'NAG', 'NAG', 'NAG', 'NAG', 'NAG', 'NAG', 'NAG', 'NAG', 'NAG', 'NAG', 'NAG', 'NAG', 'NAG', 'NAG', 'NAG', 'NAG', 'NAG', 'NAG', 'NAG', 'NAG', 'NAG', 'NAG', 'NAG', 'NAG', 'NAG', 'NAG', 'NAG', 'NAG', 'NAG', 'NAG', 'NAG', 'NAG', 'NAG', 'NAG', 'NAG', 'NAG', 'NAG', 'NAG', 'NAG', 'NAG', 'NAG', 'NAG', 'NAG', 'NAG', 'NAG', 'NAG', 'NAG', 'NAG', 'NAG', 'NAG', 'NAG', 'NAG', 'NAG', 'NAG', 'NAG', 'NAG', 'NAG', 'NAG', 'NAG', 'NAG', 'NAG', 'NAG', 'NAG', 'NAG', 'NAG', 'NAG', 'NAG', 'NAG', 'NAG', 'NAG', 'NAG', 'NAG', 'NAG', 'NAG', 'NAG', 'NAG', 'NAG', 'NAG', 'NAG', 'NAG', 'NAG', 'NAG', 'NAG', 'NAG', 'NAG', 'NAG', 'NAG', 'NAG', 'NAG', 'NAG', 'NAG', 'NAG', 'NAG', 'NAG', 'NAG', 'NAG', 'NAG', 'NAG', 'NAG', 'NAG', 'NAG', 'NAG', 'NAG', 'NAG', 'NAG', 'NAG', 'NAG', 'NAG', 'NAG', 'NAG', 'NAG', 'NAG', 'NAG', 'NAG', 'NAG', 'NAG', 'NAG', 'NAG', 'NAG', 'NAG', 'NAG', 'NAG', 'NAG', 'NAG', 'NAG', 'NAG', 'NAG', 'NAG', 'NAG', 'NAG', 'NAG', 'NAG', 'NAG', 'NAG', 'NAG', 'NAG', 'NAG', 'NAG', 'NAG', 'NAG', 'NAG', 'NAG', 'NAG', 'NAG', 'NAG', 'NAG', 'NAG', 'NAG', 'NAG', 'NAG', 'NAG', 'NAG', 'NAG', 'NAG', 'NAG', 'NAG', 'NAG', 'NAG', 'NAG', 'NAG', 'NAG', 'NAG', 'NAG', 'NAG', 'NAG', 'NAG', 'NAG', 'NAG', 'NAG', 'NAG', 'NAG', 'NAG', 'NAG', 'NAG', 'NAG', 'NAG', 'NAG', 'NAG', 'NAG', 'NAG', 'NAG', 'NAG', 'NAG', 'NAG', 'NAG', 'NAG', 'NAG', 'NAG', 'NAG', 'NAG', 'CAG', 'OAG', 'CAG', 'CAG', 'OAG', 'OAG', 'CAG', 'CAG', 'CAG', 'CAG', 'CAG', 'OAG', 'CAG', 'OAG', 'OAG', 'OAG', 'CAG', 'CAG', 'OAG', 'CAG', 'OAG', 'OAG', 'OAG', 'CAG', 'CAG', 'OAG', 'CAG', 'OAG', 'CAG', 'OAG', 'CAG', 'CAG', 'OAG', 'CAG', 'CAG', 'CAG', 'CAG', 'OAG', 'CAG', 'OAG', 'CAG', 'OAG', 'CAG', 'CAG', 'OAG', 'OAG', 'CAG', 'CAG', 'OAG', 'CAG', 'CAG', 'CAG', 'CAG', 'OAG', 'OAG', 'CAG', 'OAG', 'OAG', 'OAG', 'OAG', 'OAG', 'OAG', 'CAG', 'CAG', 'CAG', 'CAG', 'OAG', 'OAG', 'OAG', 'OAG', 'OAG', 'CAG', 'CAG', 'CAG', 'OAG', 'CAG', 'CAG', 'CAG', 'CAG', 'CAG', 'CAG', 'CAG', 'OAG', 'CAG', 'OAG', 'CAG', 'CAG', 'CAG', 'OAG', 'CAG', 'OAG', 'OAG', 'OAG', 'CAG', 'CAG', 'OAG', 'CAG', 'OAG', 'CAG', 'OAG', 'CAG', 'OAG', 'OAG', 'CAG', 'CAG', 'OAG', 'CAG', 'OAG', 'OAG', 'OAG', 'CAG', 'OAG', 'OAG', 'CAG', 'OAG', 'OAG', 'CAG', 'CAG', 'CAG', 'CAG', 'OAG', 'OAG', 'OAG', 'CAG', 'CAG', 'CAG', 'CAG', 'CAG', 'OAG', 'CAG', 'OAG', 'CAG', 'OAG', 'OAG', 'CAG', 'OAG', 'CAG', 'OAG', 'CAG', 'CAG', 'CAG', 'CAG', 'CAG', 'OAG', 'OAG', 'CAG', 'OAG', 'CAG', 'OAG', 'OAG', 'OAG', 'CAG', 'CAG', 'CAG', 'OAG', 'OAG', 'CAG', 'CAG', 'CAG', 'OAG', 'CAG', 'OAG', 'CAG', 'OAG', 'OAG', 'CAG', 'NAG', 'CAG', 'NAG', 'OAG', 'OAG', 'OAG', 'CAG', 'CAG', 'OAG', 'OAG', 'CAG', 'OAG', 'OAG', 'OAG', 'CAG', 'CAG', 'CAG', 'OAG', 'CAG', 'NAG', 'OAG', 'CAG', 'OAG', 'OAG', 'CAG', 'OAG', 'CAG', 'NAG', 'CAG', 'OAG', 'CAG', 'OAG', 'OAG', 'OAG', 'OAG', 'CAG', 'CAG', 'CAG', 'OAG', 'OAG', 'OAG', 'CAG', 'OAG', 'CAG', 'OAG', 'CAG', 'CAG', 'OAG', 'OAG', 'CAG', 'OAG', 'OAG', 'CAG', 'CAG', 'OAG', 'OAG', 'OAG', 'CAG', 'OAG', 'CAG', 'CAG', 'OAG', 'CAG', 'OAG', 'OAG', 'CAG', 'OAG', 'OAG', 'OAG', 'OAG', 'CAG', 'CAG', 'CAG', 'OAG', 'CAG', 'CAG', 'OAG', 'CAG', 'OAG', 'OAG', 'CAG', 'CAG', 'CAG', 'OAG', 'CAG', 'CAG', 'OAG', 'CAG', 'OAG', 'OAG', 'OAG', 'CAG', 'CAG', 'CAG', 'CAG', 'CAG', 'CAG', 'CAG', 'CAG', 'CAG', 'OAG', 'OAG', 'OAG', 'CAG', 'CAG', 'CAG', 'CAG', 'CAG', 'CAG', 'OAG', 'CAG', 'CAG', 'CAG', 'CAG', 'CAG', 'OAG', 'OAG', 'OAG', 'CAG', 'CAG', 'OAG', 'CAG', 'CAG', 'CAG', 'OAG', 'CAG', 'OAG', 'OAG', 'CAG', 'CAG', 'OAG', 'OAG', 'OAG', 'CAG', 'OAG', 'OAG', 'CAG', 'OAG', 'OAG', 'CAG', 'OAG', 'CAG', 'CAG', 'CAG', 'CAG', 'OAG', 'CAG', 'CAG', 'CAG', 'CAG', 'CAG', 'CAG', 'OAG', 'CAG', 'CAG', 'CAG', 'CAG', 'CAG', 'CAG', 'CAG', 'CAG', 'OAG', 'OAG', 'OAG', 'OAG', 'OAG', 'OAG', 'OAG', 'OAG', 'OAG', 'OAG', 'OAG', 'OAG', 'OAG', 'OAG', 'OAG', 'NAG', 'OAG', 'OAG', 'CAG', 'OAG', 'CAG', 'NAG', 'OAG', 'OAG', 'OAG', 'OAG', 'OAG', 'OAG', 'OAG', 'OAG', 'OAG', 'CAG', 'CAG', 'OAG', 'OAG', 'OAG', 'OAG', 'OAG', 'OAG', 'OAG', 'OAG', 'OAG', 'OAG', 'OAG', 'OAG', 'OAG', 'OAG', 'OAG', 'OAG', 'OAG', 'OAG', 'OAG', 'OAG', 'OAG', 'OAG', 'OAG', 'OAG', 'OAG', 'OAG', 'OAG', 'OAG', 'OAG', 'OAG', 'OAG', 'OAG', 'OAG', 'OAG', 'OAG', 'OAG', 'OAG', 'OAG', 'OAG', 'OAG', 'OAG', 'OAG', 'OAG', 'OAG', 'OAG', 'OAG', 'OAG', 'OAG', 'OAG', 'OAG', 'OAG', 'OAG', 'CAG', 'OAG', 'OAG', 'OAG', 'OAG', 'OAG', 'OAG', 'OAG', 'OAG', 'OAG', 'OAG', 'NAG', 'OAG', 'OAG', 'OAG', 'CAG', 'OAG', 'OAG', 'OAG', 'NAG', 'OAG', 'CAG', 'OAG', 'OAG', 'OAG', 'CAG', 'OAG', 'NAG', 'CAG', 'NAG', 'NAG', 'OAG', 'CAG', 'CAG', 'CAG', 'CAG', 'OAG', 'OAG', 'OAG', 'OAG', 'OAG', 'CAG', 'NAG', 'OAG', 'OAG', 'OAG', 'NAG', 'OAG', 'CAG', 'OAG', 'OAG', 'OAG', 'OAG', 'OAG', 'OAG', 'OAG', 'OAG', 'OAG', 'OAG', 'OAG', 'OAG', 'CAG', 'OAG', 'OAG', 'NAG', 'OAG', 'OAG', 'CAG', 'OAG', 'CAG', 'OAG', 'NAG', 'OAG', 'OAG', 'NAG', 'OAG', 'OAG', 'NAG', 'CAG', 'OAG', 'CAG', 'OAG', 'CAG', 'NAG', 'NAG', 'NAG', 'NAG', 'NAG', 'NAG', 'NAG', 'CAG', 'NAG', 'NAG', 'NAG', 'NAG', 'NAG', 'CAG', 'NAG', 'NAG', 'NAG', 'CAG', 'OAG', 'OAG', 'CAG', 'NAG', 'NAG', 'NAG', 'CAG', 'NAG', 'CAG', 'OAG', 'NAG', 'OAG', 'CAG', 'NAG', 'NAG', 'NAG', 'CAG', 'CAG', 'NAG', 'NAG', 'NAG', 'NAG', 'OAG', 'NAG', 'NAG', 'CAG', 'CAG', 'CAG', 'CAG', 'CAG', 'CAG', 'CAG', 'CAG', 'CAG', 'OAG', 'NAG', 'NAG', 'NAG', 'CAG', 'NAG', 'CAG', 'NAG', 'NAG', 'CAG', 'NAG', 'NAG', 'NAG', 'NAG', 'NAG', 'NAG', 'NAG', 'NAG', 'NAG', 'NAG', 'OAG', 'CAG', 'NAG', 'NAG', 'NAG', 'NAG', 'NAG', 'NAG', 'NAG', 'NAG', 'NAG', 'NAG', 'NAG', 'NAG', 'NAG', 'NAG', 'NAG', 'NAG', 'NAG', 'NAG', 'NAG', 'NAG', 'NAG', 'NAG', 'NAG', 'NAG', 'NAG', 'NAG', 'NAG', 'NAG', 'NAG', 'NAG', 'NAG', 'NAG', 'NAG', 'NAG', 'NAG', 'NAG', 'NAG', 'NAG', 'NAG', 'NAG', 'NAG', 'NAG', 'NAG', 'NAG', 'NAG', 'NAG', 'NAG', 'NAG', 'NAG', 'NAG', 'NAG', 'NAG', 'NAG', 'NAG', 'NAG', 'NAG', 'NAG', 'NAG', 'NAG', 'NAG', 'NAG', 'NAG', 'NAG', 'NAG', 'NAG', 'NAG', 'NAG', 'NAG', 'NAG', 'NAG', 'NAG', 'NAG', 'NAG', 'NAG', 'NAG', 'NAG', 'NAG', 'NAG', 'NAG', 'NAG', 'NAG', 'NAG', 'NAG', 'NAG', 'NAG', 'NAG', 'NAG', 'NAG', 'NAG', 'NAG', 'NAG', 'NAG', 'NAG', 'NAG', 'NAG', 'NAG', 'NAG', 'NAG', 'NAG', 'NAG', 'NAG', 'NAG', 'NAG', 'NAG', 'NAG', 'NAG', 'NAG', 'NAG', 'NAG', 'NAG', 'NAG', 'NAG', 'NAG', 'NAG', 'NAG', 'NAG', 'NAG', 'NAG', 'NAG', 'NAG', 'NAG', 'NAG', 'NAG', 'NAG', 'NAG', 'NAG', 'NAG', 'NAG', 'NAG', 'NAG', 'NAG', 'NAG', 'NAG', 'NAG', 'NAG', 'NAG', 'NAG', 'NAG', 'NAG', 'NAG', 'NAG', 'NAG', 'NAG', 'NAG', 'NAG', 'NAG', 'NAG', 'NAG', 'NAG', 'NAG', 'NAG', 'NAG', 'NAG', 'NAG', 'NAG', 'NAG', 'NAG', 'NAG', 'NAG', 'NAG', 'NAG', 'NAG', 'NAG', 'NAG', 'NAG', 'NAG', 'NAG', 'NAG', 'NAG', 'NAG', 'NAG', 'NAG', 'NAG', 'NAG', 'NAG', 'NAG', 'NAG', 'NAG', 'NAG', 'NAG', 'NAG', 'NAG', 'NAG', 'NAG', 'NAG', 'NAG', 'NAG', 'NAG', 'NAG', 'NAG', 'NAG', 'NAG', 'NAG', 'NAG', 'NAG', 'NAG', 'NAG', 'NAG', 'NAG', 'NAG', 'NAG', 'NAG', 'NAG', 'NAG', 'NAG', 'NAG', 'NAG', 'NAG', 'NAG', 'NAG', 'NAG', 'NAG', 'NAG', 'NAG', 'NAG', 'NAG', 'NAG', 'NAG', 'NAG', 'NAG', 'NAG', 'NAG', 'NAG', 'NAG', 'NAG', 'NAG', 'NAG', 'NAG', 'NAG', 'NAG', 'NAG', 'NAG', 'NAG', 'NAG', 'NAG', 'NAG', 'NAG', 'NAG', 'NAG', 'NAG', 'NAG', 'NAG', 'NAG', 'NAG', 'NAG', 'NAG', 'NAG', 'NAG', 'NAG', 'NAG', 'NAG', 'NAG', 'NAG', 'NAG', 'NAG', 'NAG', 'NAG', 'NAG', 'NAG', 'NAG', 'NAG', 'NAG', 'NAG', 'NAG', 'NAG', 'NAG', 'NAG', 'NAG', 'NAG', 'NAG', 'NAG', 'NAG', 'NAG', 'NAG', 'NAG', 'NAG', 'NAG', 'NAG', 'NAG', 'NAG', 'NAG', 'NAG', 'NAG', 'NAG', 'NAG', 'NAG', 'NAG', 'NAG', 'NAG', 'NAG', 'NAG', 'NAG', 'NAG', 'NAG', 'NAG', 'NAG', 'NAG', 'NAG', 'NAG', 'NAG', 'NAG', 'NAG', 'NAG', 'NAG', 'NAG', 'NAG', 'NAG', 'NAG', 'NAG', 'NAG', 'NAG', 'NAG', 'NAG', 'NAG', 'NAG', 'NAG', 'NAG', 'NAG', 'NAG', 'NAG', 'NAG', 'NAG', 'NAG']\n",
            "[0 0 0 ... 0 0 0] ['NGEN', 'NGEN', 'NGEN', 'NGEN', 'NGEN', 'NGEN', 'NGEN', 'NGEN', 'NGEN', 'NGEN', 'NGEN', 'NGEN', 'NGEN', 'NGEN', 'GEN', 'GEN', 'GEN', 'GEN', 'GEN', 'NGEN', 'NGEN', 'NGEN', 'NGEN', 'NGEN', 'NGEN', 'NGEN', 'NGEN', 'NGEN', 'NGEN', 'NGEN', 'NGEN', 'NGEN', 'NGEN', 'NGEN', 'NGEN', 'NGEN', 'NGEN', 'NGEN', 'NGEN', 'NGEN', 'NGEN', 'NGEN', 'NGEN', 'NGEN', 'NGEN', 'NGEN', 'NGEN', 'NGEN', 'NGEN', 'NGEN', 'NGEN', 'NGEN', 'NGEN', 'NGEN', 'NGEN', 'NGEN', 'NGEN', 'NGEN', 'NGEN', 'NGEN', 'NGEN', 'NGEN', 'NGEN', 'NGEN', 'NGEN', 'NGEN', 'NGEN', 'NGEN', 'NGEN', 'NGEN', 'NGEN', 'NGEN', 'NGEN', 'NGEN', 'NGEN', 'NGEN', 'NGEN', 'NGEN', 'NGEN', 'NGEN', 'NGEN', 'NGEN', 'NGEN', 'NGEN', 'NGEN', 'NGEN', 'NGEN', 'NGEN', 'NGEN', 'NGEN', 'NGEN', 'NGEN', 'NGEN', 'NGEN', 'NGEN', 'NGEN', 'NGEN', 'NGEN', 'NGEN', 'NGEN', 'NGEN', 'NGEN', 'NGEN', 'NGEN', 'NGEN', 'NGEN', 'NGEN', 'NGEN', 'NGEN', 'NGEN', 'NGEN', 'NGEN', 'NGEN', 'NGEN', 'NGEN', 'NGEN', 'NGEN', 'NGEN', 'NGEN', 'NGEN', 'NGEN', 'NGEN', 'NGEN', 'NGEN', 'NGEN', 'NGEN', 'NGEN', 'NGEN', 'NGEN', 'NGEN', 'NGEN', 'NGEN', 'NGEN', 'NGEN', 'NGEN', 'NGEN', 'NGEN', 'NGEN', 'NGEN', 'NGEN', 'NGEN', 'NGEN', 'NGEN', 'NGEN', 'NGEN', 'NGEN', 'NGEN', 'NGEN', 'NGEN', 'NGEN', 'NGEN', 'NGEN', 'NGEN', 'NGEN', 'NGEN', 'NGEN', 'NGEN', 'NGEN', 'NGEN', 'NGEN', 'NGEN', 'NGEN', 'NGEN', 'NGEN', 'NGEN', 'NGEN', 'NGEN', 'NGEN', 'NGEN', 'NGEN', 'NGEN', 'NGEN', 'NGEN', 'NGEN', 'NGEN', 'NGEN', 'NGEN', 'NGEN', 'NGEN', 'NGEN', 'NGEN', 'NGEN', 'NGEN', 'NGEN', 'NGEN', 'NGEN', 'NGEN', 'NGEN', 'NGEN', 'NGEN', 'NGEN', 'NGEN', 'NGEN', 'NGEN', 'NGEN', 'NGEN', 'NGEN', 'NGEN', 'NGEN', 'NGEN', 'NGEN', 'NGEN', 'NGEN', 'NGEN', 'NGEN', 'NGEN', 'NGEN', 'NGEN', 'NGEN', 'NGEN', 'NGEN', 'NGEN', 'NGEN', 'NGEN', 'NGEN', 'NGEN', 'NGEN', 'NGEN', 'NGEN', 'NGEN', 'NGEN', 'NGEN', 'NGEN', 'NGEN', 'NGEN', 'NGEN', 'NGEN', 'NGEN', 'NGEN', 'NGEN', 'NGEN', 'NGEN', 'NGEN', 'NGEN', 'NGEN', 'NGEN', 'NGEN', 'NGEN', 'NGEN', 'NGEN', 'NGEN', 'NGEN', 'NGEN', 'NGEN', 'NGEN', 'NGEN', 'NGEN', 'NGEN', 'NGEN', 'NGEN', 'NGEN', 'NGEN', 'NGEN', 'NGEN', 'NGEN', 'NGEN', 'NGEN', 'NGEN', 'NGEN', 'NGEN', 'NGEN', 'NGEN', 'NGEN', 'NGEN', 'NGEN', 'NGEN', 'NGEN', 'NGEN', 'NGEN', 'NGEN', 'NGEN', 'NGEN', 'NGEN', 'NGEN', 'NGEN', 'NGEN', 'NGEN', 'NGEN', 'NGEN', 'NGEN', 'NGEN', 'NGEN', 'NGEN', 'NGEN', 'NGEN', 'NGEN', 'NGEN', 'NGEN', 'NGEN', 'NGEN', 'NGEN', 'NGEN', 'NGEN', 'NGEN', 'NGEN', 'NGEN', 'NGEN', 'NGEN', 'NGEN', 'NGEN', 'NGEN', 'NGEN', 'NGEN', 'NGEN', 'NGEN', 'NGEN', 'NGEN', 'NGEN', 'NGEN', 'NGEN', 'NGEN', 'NGEN', 'NGEN', 'NGEN', 'NGEN', 'NGEN', 'GEN', 'NGEN', 'NGEN', 'NGEN', 'NGEN', 'NGEN', 'NGEN', 'NGEN', 'NGEN', 'NGEN', 'NGEN', 'NGEN', 'NGEN', 'NGEN', 'NGEN', 'NGEN', 'NGEN', 'NGEN', 'NGEN', 'NGEN', 'NGEN', 'NGEN', 'NGEN', 'NGEN', 'NGEN', 'NGEN', 'NGEN', 'NGEN', 'NGEN', 'NGEN', 'NGEN', 'NGEN', 'NGEN', 'NGEN', 'NGEN', 'NGEN', 'NGEN', 'NGEN', 'NGEN', 'NGEN', 'NGEN', 'NGEN', 'NGEN', 'NGEN', 'GEN', 'NGEN', 'NGEN', 'NGEN', 'NGEN', 'NGEN', 'NGEN', 'NGEN', 'NGEN', 'NGEN', 'NGEN', 'NGEN', 'NGEN', 'NGEN', 'GEN', 'NGEN', 'NGEN', 'NGEN', 'NGEN', 'GEN', 'NGEN', 'NGEN', 'NGEN', 'NGEN', 'GEN', 'NGEN', 'NGEN', 'NGEN', 'NGEN', 'NGEN', 'NGEN', 'NGEN', 'NGEN', 'NGEN', 'NGEN', 'GEN', 'NGEN', 'NGEN', 'NGEN', 'NGEN', 'NGEN', 'NGEN', 'NGEN', 'NGEN', 'NGEN', 'NGEN', 'NGEN', 'NGEN', 'NGEN', 'NGEN', 'NGEN', 'NGEN', 'NGEN', 'NGEN', 'NGEN', 'NGEN', 'NGEN', 'NGEN', 'NGEN', 'NGEN', 'NGEN', 'NGEN', 'NGEN', 'NGEN', 'NGEN', 'NGEN', 'NGEN', 'NGEN', 'NGEN', 'NGEN', 'NGEN', 'NGEN', 'NGEN', 'NGEN', 'NGEN', 'NGEN', 'NGEN', 'NGEN', 'NGEN', 'NGEN', 'NGEN', 'NGEN', 'NGEN', 'NGEN', 'NGEN', 'NGEN', 'NGEN', 'NGEN', 'NGEN', 'NGEN', 'NGEN', 'NGEN', 'NGEN', 'NGEN', 'NGEN', 'NGEN', 'NGEN', 'NGEN', 'NGEN', 'NGEN', 'NGEN', 'NGEN', 'NGEN', 'NGEN', 'NGEN', 'GEN', 'NGEN', 'NGEN', 'NGEN', 'NGEN', 'NGEN', 'NGEN', 'NGEN', 'NGEN', 'GEN', 'NGEN', 'NGEN', 'NGEN', 'NGEN', 'GEN', 'NGEN', 'NGEN', 'NGEN', 'NGEN', 'NGEN', 'NGEN', 'GEN', 'NGEN', 'NGEN', 'GEN', 'NGEN', 'NGEN', 'NGEN', 'GEN', 'NGEN', 'GEN', 'NGEN', 'NGEN', 'NGEN', 'NGEN', 'NGEN', 'GEN', 'NGEN', 'NGEN', 'NGEN', 'NGEN', 'NGEN', 'NGEN', 'NGEN', 'NGEN', 'GEN', 'NGEN', 'NGEN', 'NGEN', 'NGEN', 'NGEN', 'GEN', 'NGEN', 'NGEN', 'NGEN', 'NGEN', 'NGEN', 'NGEN', 'NGEN', 'NGEN', 'NGEN', 'NGEN', 'NGEN', 'NGEN', 'NGEN', 'NGEN', 'NGEN', 'NGEN', 'NGEN', 'NGEN', 'NGEN', 'NGEN', 'NGEN', 'NGEN', 'NGEN', 'NGEN', 'NGEN', 'NGEN', 'GEN', 'NGEN', 'NGEN', 'NGEN', 'NGEN', 'NGEN', 'NGEN', 'NGEN', 'NGEN', 'NGEN', 'NGEN', 'NGEN', 'NGEN', 'NGEN', 'NGEN', 'NGEN', 'NGEN', 'NGEN', 'NGEN', 'NGEN', 'NGEN', 'NGEN', 'NGEN', 'NGEN', 'NGEN', 'NGEN', 'NGEN', 'NGEN', 'NGEN', 'NGEN', 'NGEN', 'NGEN', 'NGEN', 'NGEN', 'NGEN', 'NGEN', 'NGEN', 'GEN', 'NGEN', 'NGEN', 'NGEN', 'NGEN', 'NGEN', 'NGEN', 'NGEN', 'NGEN', 'NGEN', 'NGEN', 'NGEN', 'NGEN', 'NGEN', 'NGEN', 'NGEN', 'NGEN', 'NGEN', 'NGEN', 'NGEN', 'NGEN', 'NGEN', 'NGEN', 'NGEN', 'NGEN', 'NGEN', 'NGEN', 'NGEN', 'NGEN', 'NGEN', 'NGEN', 'GEN', 'NGEN', 'NGEN', 'NGEN', 'NGEN', 'NGEN', 'NGEN', 'NGEN', 'GEN', 'NGEN', 'NGEN', 'NGEN', 'NGEN', 'NGEN', 'NGEN', 'NGEN', 'NGEN', 'NGEN', 'NGEN', 'NGEN', 'NGEN', 'NGEN', 'NGEN', 'NGEN', 'NGEN', 'NGEN', 'NGEN', 'NGEN', 'NGEN', 'NGEN', 'NGEN', 'NGEN', 'NGEN', 'NGEN', 'NGEN', 'NGEN', 'NGEN', 'NGEN', 'NGEN', 'GEN', 'NGEN', 'GEN', 'GEN', 'NGEN', 'GEN', 'GEN', 'NGEN', 'NGEN', 'NGEN', 'NGEN', 'NGEN', 'NGEN', 'NGEN', 'NGEN', 'NGEN', 'GEN', 'GEN', 'GEN', 'NGEN', 'NGEN', 'NGEN', 'NGEN', 'NGEN', 'NGEN', 'NGEN', 'NGEN', 'NGEN', 'NGEN', 'NGEN', 'NGEN', 'NGEN', 'NGEN', 'NGEN', 'NGEN', 'NGEN', 'NGEN', 'NGEN', 'NGEN', 'NGEN', 'NGEN', 'GEN', 'NGEN', 'NGEN', 'NGEN', 'NGEN', 'NGEN', 'NGEN', 'NGEN', 'NGEN', 'NGEN', 'NGEN', 'NGEN', 'NGEN', 'NGEN', 'NGEN', 'NGEN', 'NGEN', 'NGEN', 'NGEN', 'NGEN', 'NGEN', 'NGEN', 'NGEN', 'NGEN', 'NGEN', 'NGEN', 'NGEN', 'NGEN', 'NGEN', 'GEN', 'NGEN', 'NGEN', 'NGEN', 'NGEN', 'NGEN', 'NGEN', 'NGEN', 'NGEN', 'NGEN', 'NGEN', 'GEN', 'NGEN', 'NGEN', 'NGEN', 'GEN', 'NGEN', 'NGEN', 'NGEN', 'GEN', 'GEN', 'GEN', 'GEN', 'GEN', 'GEN', 'GEN', 'GEN', 'GEN', 'GEN', 'GEN', 'GEN', 'GEN', 'GEN', 'GEN', 'GEN', 'GEN', 'GEN', 'GEN', 'GEN', 'GEN', 'GEN', 'GEN', 'GEN', 'GEN', 'GEN', 'GEN', 'GEN', 'GEN', 'GEN', 'GEN', 'GEN', 'GEN', 'GEN', 'GEN', 'GEN', 'GEN', 'GEN', 'GEN', 'GEN', 'GEN', 'GEN', 'GEN', 'GEN', 'GEN', 'GEN', 'GEN', 'GEN', 'GEN', 'GEN', 'GEN', 'GEN', 'GEN', 'GEN', 'GEN', 'GEN', 'GEN', 'GEN', 'GEN', 'GEN', 'GEN', 'GEN', 'GEN', 'GEN', 'GEN', 'GEN', 'GEN', 'GEN', 'GEN', 'GEN', 'GEN', 'GEN', 'GEN', 'GEN', 'GEN', 'GEN', 'GEN', 'GEN', 'GEN', 'GEN', 'GEN', 'GEN', 'GEN', 'GEN', 'GEN', 'GEN', 'GEN', 'GEN', 'GEN', 'GEN', 'GEN', 'GEN', 'GEN', 'GEN', 'GEN', 'GEN', 'GEN', 'GEN', 'GEN', 'GEN', 'GEN', 'GEN', 'GEN', 'GEN', 'GEN', 'GEN', 'GEN', 'GEN', 'GEN', 'GEN', 'GEN', 'GEN', 'GEN', 'GEN', 'GEN', 'GEN', 'GEN', 'GEN', 'GEN', 'GEN', 'GEN', 'GEN', 'GEN', 'GEN', 'GEN', 'GEN', 'GEN', 'GEN', 'GEN', 'GEN', 'GEN', 'GEN', 'GEN', 'GEN', 'GEN', 'GEN', 'GEN', 'GEN', 'NGEN', 'NGEN', 'NGEN', 'NGEN', 'NGEN', 'NGEN', 'NGEN', 'NGEN', 'NGEN', 'NGEN', 'NGEN', 'NGEN', 'NGEN', 'NGEN', 'NGEN', 'NGEN', 'NGEN', 'NGEN', 'NGEN', 'NGEN', 'NGEN', 'NGEN', 'NGEN', 'NGEN', 'NGEN', 'NGEN', 'NGEN', 'NGEN', 'NGEN', 'NGEN', 'NGEN', 'NGEN', 'NGEN', 'NGEN', 'NGEN', 'NGEN', 'NGEN', 'NGEN', 'NGEN', 'NGEN', 'NGEN', 'NGEN', 'NGEN', 'NGEN', 'NGEN', 'NGEN', 'NGEN', 'NGEN', 'NGEN', 'NGEN', 'NGEN', 'NGEN', 'NGEN', 'NGEN', 'NGEN', 'NGEN', 'NGEN', 'NGEN', 'NGEN', 'NGEN', 'NGEN', 'NGEN', 'NGEN', 'NGEN', 'NGEN', 'NGEN', 'NGEN', 'NGEN', 'NGEN', 'NGEN', 'NGEN', 'NGEN', 'NGEN', 'NGEN', 'NGEN', 'NGEN', 'NGEN', 'NGEN', 'NGEN', 'NGEN', 'NGEN', 'NGEN', 'NGEN', 'NGEN', 'NGEN', 'NGEN', 'NGEN', 'NGEN', 'NGEN', 'NGEN', 'NGEN', 'NGEN', 'NGEN', 'NGEN', 'NGEN', 'NGEN', 'NGEN', 'NGEN', 'NGEN', 'NGEN', 'NGEN', 'NGEN', 'NGEN', 'NGEN', 'NGEN', 'NGEN', 'NGEN', 'NGEN', 'NGEN', 'NGEN', 'NGEN', 'NGEN', 'NGEN', 'NGEN', 'NGEN', 'NGEN', 'NGEN', 'NGEN', 'NGEN', 'NGEN', 'NGEN', 'NGEN', 'NGEN', 'NGEN', 'NGEN', 'NGEN', 'NGEN', 'NGEN', 'NGEN', 'NGEN', 'NGEN', 'NGEN', 'NGEN', 'NGEN', 'NGEN', 'NGEN', 'NGEN', 'NGEN', 'NGEN', 'NGEN', 'NGEN', 'NGEN', 'NGEN', 'NGEN', 'NGEN', 'NGEN', 'NGEN', 'NGEN', 'NGEN', 'NGEN', 'NGEN', 'NGEN', 'NGEN', 'NGEN', 'NGEN', 'NGEN', 'NGEN', 'NGEN', 'NGEN', 'NGEN', 'NGEN', 'NGEN', 'NGEN', 'NGEN', 'NGEN', 'NGEN', 'NGEN', 'NGEN', 'NGEN', 'NGEN', 'NGEN', 'NGEN', 'NGEN', 'NGEN', 'NGEN', 'NGEN', 'NGEN', 'NGEN', 'NGEN', 'NGEN', 'NGEN', 'NGEN', 'NGEN', 'NGEN', 'NGEN', 'NGEN', 'NGEN', 'NGEN', 'NGEN', 'NGEN', 'NGEN', 'NGEN', 'NGEN', 'NGEN', 'NGEN', 'NGEN', 'NGEN', 'NGEN', 'NGEN', 'NGEN', 'NGEN', 'NGEN', 'NGEN', 'NGEN', 'NGEN', 'NGEN', 'NGEN', 'NGEN', 'NGEN', 'NGEN', 'NGEN', 'NGEN', 'NGEN', 'NGEN', 'NGEN', 'NGEN', 'NGEN', 'NGEN', 'NGEN', 'NGEN', 'NGEN', 'NGEN', 'NGEN', 'NGEN', 'NGEN', 'NGEN', 'NGEN', 'NGEN', 'NGEN', 'NGEN', 'NGEN', 'NGEN', 'NGEN', 'NGEN', 'NGEN', 'NGEN', 'NGEN', 'NGEN', 'NGEN', 'NGEN', 'NGEN', 'NGEN', 'NGEN', 'NGEN', 'NGEN', 'NGEN', 'NGEN', 'NGEN', 'NGEN', 'NGEN', 'NGEN', 'NGEN', 'NGEN', 'NGEN', 'NGEN', 'NGEN', 'NGEN', 'NGEN', 'NGEN', 'NGEN', 'NGEN', 'NGEN', 'NGEN', 'NGEN', 'NGEN', 'NGEN', 'NGEN', 'NGEN', 'NGEN', 'NGEN', 'NGEN', 'NGEN', 'NGEN', 'NGEN', 'NGEN', 'NGEN', 'NGEN', 'NGEN', 'NGEN', 'NGEN', 'NGEN', 'NGEN', 'NGEN', 'NGEN', 'NGEN', 'NGEN', 'NGEN', 'NGEN', 'NGEN', 'NGEN', 'NGEN', 'NGEN', 'NGEN', 'NGEN', 'NGEN', 'NGEN', 'NGEN', 'NGEN', 'NGEN', 'NGEN', 'NGEN', 'NGEN', 'NGEN', 'NGEN', 'NGEN', 'NGEN', 'NGEN', 'NGEN', 'NGEN', 'NGEN', 'NGEN', 'NGEN', 'NGEN', 'NGEN', 'NGEN', 'NGEN', 'NGEN', 'NGEN', 'NGEN', 'NGEN', 'NGEN', 'NGEN', 'NGEN']\n",
            "[0 1 1 ... 1 2 0] ['NAG', 'CAG', 'CAG', 'NAG', 'CAG', 'CAG', 'NAG', 'NAG', 'NAG', 'NAG', 'NAG', 'OAG', 'NAG', 'NAG', 'NAG', 'CAG', 'NAG', 'CAG', 'CAG', 'CAG', 'NAG', 'OAG', 'NAG', 'NAG', 'CAG', 'OAG', 'NAG', 'NAG', 'CAG', 'NAG', 'CAG', 'CAG', 'OAG', 'NAG', 'NAG', 'OAG', 'NAG', 'NAG', 'NAG', 'NAG', 'NAG', 'NAG', 'NAG', 'NAG', 'NAG', 'NAG', 'NAG', 'NAG', 'NAG', 'NAG', 'NAG', 'NAG', 'NAG', 'NAG', 'NAG', 'NAG', 'NAG', 'NAG', 'NAG', 'NAG', 'NAG', 'NAG', 'NAG', 'NAG', 'NAG', 'NAG', 'NAG', 'NAG', 'NAG', 'NAG', 'NAG', 'NAG', 'NAG', 'NAG', 'NAG', 'NAG', 'NAG', 'NAG', 'NAG', 'NAG', 'NAG', 'NAG', 'NAG', 'NAG', 'NAG', 'NAG', 'NAG', 'NAG', 'NAG', 'NAG', 'NAG', 'NAG', 'NAG', 'NAG', 'NAG', 'NAG', 'NAG', 'NAG', 'NAG', 'NAG', 'NAG', 'NAG', 'NAG', 'NAG', 'NAG', 'NAG', 'NAG', 'NAG', 'NAG', 'NAG', 'NAG', 'NAG', 'NAG', 'NAG', 'NAG', 'NAG', 'NAG', 'NAG', 'NAG', 'NAG', 'NAG', 'NAG', 'NAG', 'NAG', 'NAG', 'NAG', 'NAG', 'NAG', 'NAG', 'NAG', 'NAG', 'NAG', 'NAG', 'NAG', 'NAG', 'NAG', 'NAG', 'NAG', 'NAG', 'NAG', 'NAG', 'NAG', 'NAG', 'NAG', 'NAG', 'NAG', 'NAG', 'NAG', 'NAG', 'NAG', 'NAG', 'NAG', 'NAG', 'NAG', 'NAG', 'NAG', 'NAG', 'NAG', 'NAG', 'NAG', 'NAG', 'NAG', 'NAG', 'NAG', 'NAG', 'NAG', 'NAG', 'NAG', 'NAG', 'NAG', 'NAG', 'NAG', 'NAG', 'NAG', 'NAG', 'NAG', 'NAG', 'NAG', 'NAG', 'NAG', 'NAG', 'NAG', 'NAG', 'NAG', 'NAG', 'NAG', 'NAG', 'NAG', 'NAG', 'NAG', 'NAG', 'CAG', 'NAG', 'NAG', 'NAG', 'NAG', 'NAG', 'NAG', 'NAG', 'NAG', 'NAG', 'NAG', 'NAG', 'NAG', 'NAG', 'NAG', 'NAG', 'NAG', 'NAG', 'NAG', 'CAG', 'NAG', 'NAG', 'NAG', 'NAG', 'NAG', 'NAG', 'NAG', 'NAG', 'NAG', 'NAG', 'NAG', 'OAG', 'NAG', 'NAG', 'NAG', 'OAG', 'NAG', 'NAG', 'NAG', 'NAG', 'NAG', 'NAG', 'NAG', 'NAG', 'NAG', 'NAG', 'NAG', 'NAG', 'NAG', 'NAG', 'NAG', 'NAG', 'NAG', 'CAG', 'NAG', 'NAG', 'NAG', 'NAG', 'NAG', 'NAG', 'NAG', 'NAG', 'NAG', 'NAG', 'NAG', 'NAG', 'NAG', 'NAG', 'NAG', 'OAG', 'NAG', 'NAG', 'NAG', 'NAG', 'NAG', 'NAG', 'NAG', 'NAG', 'NAG', 'NAG', 'OAG', 'NAG', 'NAG', 'NAG', 'NAG', 'NAG', 'NAG', 'NAG', 'NAG', 'NAG', 'NAG', 'NAG', 'NAG', 'NAG', 'NAG', 'NAG', 'NAG', 'NAG', 'NAG', 'NAG', 'NAG', 'NAG', 'NAG', 'NAG', 'NAG', 'NAG', 'NAG', 'NAG', 'NAG', 'NAG', 'NAG', 'NAG', 'NAG', 'NAG', 'NAG', 'NAG', 'NAG', 'CAG', 'OAG', 'CAG', 'CAG', 'OAG', 'OAG', 'NAG', 'NAG', 'NAG', 'OAG', 'OAG', 'OAG', 'CAG', 'NAG', 'OAG', 'NAG', 'OAG', 'NAG', 'NAG', 'CAG', 'CAG', 'OAG', 'OAG', 'CAG', 'CAG', 'OAG', 'CAG', 'OAG', 'CAG', 'OAG', 'NAG', 'NAG', 'OAG', 'CAG', 'CAG', 'OAG', 'OAG', 'OAG', 'NAG', 'OAG', 'CAG', 'OAG', 'OAG', 'CAG', 'OAG', 'OAG', 'OAG', 'CAG', 'CAG', 'CAG', 'CAG', 'NAG', 'CAG', 'OAG', 'OAG', 'OAG', 'OAG', 'OAG', 'OAG', 'NAG', 'OAG', 'OAG', 'CAG', 'CAG', 'OAG', 'NAG', 'OAG', 'OAG', 'OAG', 'OAG', 'NAG', 'OAG', 'NAG', 'OAG', 'OAG', 'OAG', 'CAG', 'OAG', 'OAG', 'OAG', 'CAG', 'OAG', 'OAG', 'CAG', 'OAG', 'CAG', 'OAG', 'CAG', 'OAG', 'NAG', 'OAG', 'OAG', 'NAG', 'CAG', 'OAG', 'OAG', 'CAG', 'OAG', 'OAG', 'OAG', 'CAG', 'OAG', 'CAG', 'CAG', 'OAG', 'OAG', 'CAG', 'CAG', 'OAG', 'OAG', 'CAG', 'CAG', 'OAG', 'CAG', 'OAG', 'OAG', 'NAG', 'CAG', 'CAG', 'CAG', 'OAG', 'OAG', 'OAG', 'CAG', 'CAG', 'CAG', 'CAG', 'CAG', 'OAG', 'CAG', 'OAG', 'OAG', 'OAG', 'NAG', 'CAG', 'OAG', 'CAG', 'OAG', 'CAG', 'NAG', 'CAG', 'OAG', 'CAG', 'OAG', 'OAG', 'OAG', 'OAG', 'OAG', 'OAG', 'OAG', 'CAG', 'NAG', 'CAG', 'CAG', 'OAG', 'NAG', 'NAG', 'OAG', 'NAG', 'OAG', 'CAG', 'OAG', 'OAG', 'OAG', 'CAG', 'CAG', 'NAG', 'OAG', 'CAG', 'OAG', 'OAG', 'OAG', 'CAG', 'CAG', 'OAG', 'OAG', 'OAG', 'OAG', 'OAG', 'OAG', 'CAG', 'CAG', 'OAG', 'OAG', 'NAG', 'CAG', 'OAG', 'CAG', 'CAG', 'CAG', 'CAG', 'CAG', 'CAG', 'CAG', 'CAG', 'OAG', 'NAG', 'OAG', 'NAG', 'CAG', 'CAG', 'CAG', 'OAG', 'NAG', 'NAG', 'CAG', 'NAG', 'OAG', 'OAG', 'CAG', 'OAG', 'OAG', 'CAG', 'OAG', 'OAG', 'CAG', 'OAG', 'OAG', 'NAG', 'CAG', 'OAG', 'CAG', 'CAG', 'NAG', 'CAG', 'CAG', 'NAG', 'OAG', 'NAG', 'OAG', 'CAG', 'OAG', 'OAG', 'CAG', 'OAG', 'OAG', 'CAG', 'OAG', 'OAG', 'OAG', 'CAG', 'CAG', 'OAG', 'NAG', 'OAG', 'OAG', 'OAG', 'CAG', 'NAG', 'OAG', 'CAG', 'NAG', 'OAG', 'NAG', 'OAG', 'OAG', 'OAG', 'CAG', 'CAG', 'NAG', 'NAG', 'OAG', 'OAG', 'CAG', 'CAG', 'NAG', 'OAG', 'OAG', 'OAG', 'NAG', 'OAG', 'NAG', 'NAG', 'OAG', 'CAG', 'CAG', 'CAG', 'OAG', 'OAG', 'CAG', 'CAG', 'CAG', 'OAG', 'CAG', 'OAG', 'OAG', 'OAG', 'CAG', 'CAG', 'CAG', 'OAG', 'NAG', 'OAG', 'OAG', 'OAG', 'NAG', 'OAG', 'OAG', 'CAG', 'OAG', 'OAG', 'OAG', 'OAG', 'OAG', 'CAG', 'NAG', 'CAG', 'CAG', 'OAG', 'NAG', 'NAG', 'OAG', 'CAG', 'NAG', 'CAG', 'OAG', 'CAG', 'OAG', 'CAG', 'CAG', 'CAG', 'CAG', 'CAG', 'OAG', 'OAG', 'CAG', 'CAG', 'OAG', 'CAG', 'OAG', 'OAG', 'OAG', 'NAG', 'CAG', 'OAG', 'CAG', 'OAG', 'OAG', 'CAG', 'OAG', 'NAG', 'OAG', 'NAG', 'CAG', 'CAG', 'OAG', 'OAG', 'OAG', 'CAG', 'OAG', 'OAG', 'NAG', 'CAG', 'OAG', 'CAG', 'NAG', 'OAG', 'OAG', 'CAG', 'NAG', 'OAG', 'OAG', 'OAG', 'OAG', 'OAG', 'OAG', 'CAG', 'OAG', 'OAG', 'OAG', 'OAG', 'OAG', 'OAG', 'OAG', 'CAG', 'OAG', 'CAG', 'OAG', 'NAG', 'OAG', 'OAG', 'CAG', 'OAG', 'OAG', 'OAG', 'OAG', 'OAG', 'NAG', 'CAG', 'OAG', 'CAG', 'CAG', 'CAG', 'OAG', 'OAG', 'CAG', 'OAG', 'CAG', 'OAG', 'NAG', 'NAG', 'OAG', 'OAG', 'NAG', 'OAG', 'OAG', 'NAG', 'OAG', 'OAG', 'OAG', 'NAG', 'NAG', 'OAG', 'OAG', 'CAG', 'OAG', 'OAG', 'OAG', 'CAG', 'CAG', 'OAG', 'CAG', 'CAG', 'OAG', 'OAG', 'OAG', 'OAG', 'OAG', 'OAG', 'OAG', 'CAG', 'OAG', 'OAG', 'NAG', 'OAG', 'OAG', 'OAG', 'OAG', 'NAG', 'CAG', 'CAG', 'NAG', 'NAG', 'NAG', 'NAG', 'NAG', 'CAG', 'NAG', 'OAG', 'OAG', 'OAG', 'OAG', 'OAG', 'CAG', 'OAG', 'CAG', 'CAG', 'OAG', 'OAG', 'OAG', 'CAG', 'OAG', 'OAG', 'OAG', 'OAG', 'OAG', 'OAG', 'OAG', 'OAG', 'CAG', 'OAG', 'OAG', 'CAG', 'CAG', 'OAG', 'OAG', 'OAG', 'OAG', 'OAG', 'CAG', 'NAG', 'OAG', 'CAG', 'NAG', 'OAG', 'OAG', 'NAG', 'OAG', 'OAG', 'CAG', 'CAG', 'NAG', 'CAG', 'OAG', 'NAG', 'OAG', 'NAG', 'NAG', 'NAG', 'CAG', 'NAG', 'OAG', 'CAG', 'NAG', 'NAG', 'NAG', 'NAG', 'NAG', 'NAG', 'CAG', 'NAG', 'NAG', 'CAG', 'NAG', 'NAG', 'CAG', 'NAG', 'OAG', 'CAG', 'CAG', 'NAG', 'NAG', 'CAG', 'NAG', 'NAG', 'CAG', 'NAG', 'NAG', 'NAG', 'CAG', 'CAG', 'OAG', 'CAG', 'CAG', 'NAG', 'NAG', 'NAG', 'CAG', 'CAG', 'CAG', 'OAG', 'NAG', 'CAG', 'CAG', 'CAG', 'CAG', 'CAG', 'NAG', 'NAG', 'NAG', 'CAG', 'NAG', 'CAG', 'NAG', 'OAG', 'CAG', 'NAG', 'OAG', 'NAG', 'NAG', 'NAG', 'NAG', 'NAG', 'NAG', 'NAG', 'CAG', 'NAG', 'NAG', 'OAG', 'NAG', 'NAG', 'NAG', 'NAG', 'NAG', 'NAG', 'NAG', 'NAG', 'OAG', 'NAG', 'NAG', 'NAG', 'NAG', 'NAG', 'NAG', 'NAG', 'NAG', 'NAG', 'NAG', 'NAG', 'NAG', 'NAG', 'NAG', 'NAG', 'NAG', 'NAG', 'NAG', 'NAG', 'NAG', 'NAG', 'NAG', 'NAG', 'NAG', 'NAG', 'NAG', 'NAG', 'NAG', 'NAG', 'NAG', 'NAG', 'NAG', 'NAG', 'NAG', 'NAG', 'NAG', 'NAG', 'NAG', 'NAG', 'NAG', 'NAG', 'NAG', 'NAG', 'NAG', 'NAG', 'OAG', 'NAG', 'NAG', 'NAG', 'NAG', 'NAG', 'NAG', 'OAG', 'NAG', 'NAG', 'NAG', 'NAG', 'NAG', 'NAG', 'NAG', 'NAG', 'NAG', 'NAG', 'NAG', 'NAG', 'OAG', 'NAG', 'NAG', 'NAG', 'NAG', 'NAG', 'NAG', 'NAG', 'NAG', 'NAG', 'NAG', 'NAG', 'NAG', 'NAG', 'NAG', 'NAG', 'NAG', 'NAG', 'NAG', 'OAG', 'NAG', 'NAG', 'NAG', 'NAG', 'NAG', 'NAG', 'NAG', 'NAG', 'NAG', 'NAG', 'NAG', 'NAG', 'NAG', 'NAG', 'NAG', 'NAG', 'NAG', 'NAG', 'NAG', 'NAG', 'NAG', 'NAG', 'NAG', 'NAG', 'NAG', 'NAG', 'NAG', 'NAG', 'NAG', 'NAG', 'NAG', 'NAG', 'NAG', 'CAG', 'NAG', 'NAG', 'NAG', 'NAG', 'NAG', 'NAG', 'NAG', 'NAG', 'NAG', 'NAG', 'NAG', 'NAG', 'NAG', 'NAG', 'OAG', 'OAG', 'NAG', 'NAG', 'NAG', 'NAG', 'NAG', 'NAG', 'NAG', 'NAG', 'NAG', 'NAG', 'CAG', 'OAG', 'NAG', 'CAG', 'NAG', 'NAG', 'CAG', 'NAG', 'NAG', 'NAG', 'CAG', 'NAG', 'CAG', 'NAG', 'NAG', 'CAG', 'CAG', 'NAG', 'NAG', 'NAG', 'CAG', 'NAG', 'CAG', 'NAG', 'NAG', 'NAG', 'NAG', 'NAG', 'NAG', 'NAG', 'NAG', 'NAG', 'CAG', 'NAG', 'NAG', 'OAG', 'NAG', 'NAG', 'NAG', 'NAG', 'CAG', 'CAG', 'NAG', 'NAG', 'NAG', 'NAG', 'NAG', 'NAG', 'NAG', 'NAG', 'NAG', 'NAG', 'CAG', 'NAG', 'CAG', 'NAG', 'NAG', 'NAG', 'NAG', 'NAG', 'OAG', 'NAG', 'CAG', 'NAG', 'NAG', 'NAG', 'NAG', 'NAG', 'NAG', 'CAG', 'NAG', 'NAG', 'NAG', 'NAG', 'NAG', 'OAG', 'NAG', 'CAG', 'OAG', 'NAG', 'NAG', 'CAG', 'NAG', 'NAG', 'NAG', 'CAG', 'OAG', 'CAG', 'NAG', 'NAG', 'CAG', 'CAG', 'NAG', 'NAG', 'NAG', 'NAG', 'NAG', 'NAG', 'CAG', 'NAG', 'NAG', 'NAG', 'NAG', 'CAG', 'NAG', 'NAG', 'NAG', 'NAG', 'NAG', 'CAG', 'OAG', 'CAG', 'NAG', 'NAG', 'OAG', 'NAG', 'CAG', 'OAG', 'OAG', 'NAG', 'NAG', 'NAG', 'CAG', 'CAG', 'NAG', 'NAG', 'CAG', 'CAG', 'NAG', 'CAG', 'NAG', 'CAG', 'CAG', 'CAG', 'NAG', 'CAG', 'NAG', 'OAG', 'NAG', 'OAG', 'OAG', 'NAG', 'OAG', 'NAG', 'NAG', 'CAG', 'NAG', 'NAG', 'NAG', 'OAG', 'NAG', 'NAG', 'NAG', 'CAG', 'OAG', 'CAG', 'CAG', 'OAG', 'CAG', 'NAG', 'OAG', 'NAG', 'NAG', 'NAG', 'OAG', 'NAG', 'CAG', 'OAG', 'NAG']\n",
            "[0 0 1 ... 0 0 0] ['NGEN', 'NGEN', 'GEN', 'GEN', 'GEN', 'GEN', 'NGEN', 'GEN', 'NGEN', 'GEN', 'GEN', 'GEN', 'GEN', 'NGEN', 'GEN', 'GEN', 'GEN', 'GEN', 'GEN', 'NGEN', 'NGEN', 'NGEN', 'NGEN', 'NGEN', 'NGEN', 'NGEN', 'NGEN', 'NGEN', 'NGEN', 'GEN', 'GEN', 'GEN', 'NGEN', 'GEN', 'NGEN', 'NGEN', 'NGEN', 'NGEN', 'NGEN', 'NGEN', 'NGEN', 'NGEN', 'NGEN', 'NGEN', 'NGEN', 'NGEN', 'NGEN', 'NGEN', 'NGEN', 'NGEN', 'NGEN', 'NGEN', 'NGEN', 'NGEN', 'NGEN', 'NGEN', 'NGEN', 'NGEN', 'NGEN', 'NGEN', 'NGEN', 'NGEN', 'NGEN', 'NGEN', 'NGEN', 'NGEN', 'NGEN', 'NGEN', 'NGEN', 'NGEN', 'NGEN', 'NGEN', 'NGEN', 'NGEN', 'NGEN', 'NGEN', 'NGEN', 'NGEN', 'NGEN', 'NGEN', 'NGEN', 'NGEN', 'NGEN', 'NGEN', 'NGEN', 'NGEN', 'NGEN', 'NGEN', 'NGEN', 'NGEN', 'NGEN', 'NGEN', 'NGEN', 'NGEN', 'NGEN', 'NGEN', 'NGEN', 'NGEN', 'NGEN', 'NGEN', 'NGEN', 'NGEN', 'NGEN', 'NGEN', 'NGEN', 'NGEN', 'NGEN', 'NGEN', 'NGEN', 'NGEN', 'NGEN', 'NGEN', 'NGEN', 'NGEN', 'NGEN', 'NGEN', 'NGEN', 'NGEN', 'NGEN', 'NGEN', 'NGEN', 'NGEN', 'NGEN', 'NGEN', 'NGEN', 'NGEN', 'NGEN', 'NGEN', 'NGEN', 'NGEN', 'NGEN', 'NGEN', 'NGEN', 'NGEN', 'NGEN', 'NGEN', 'NGEN', 'NGEN', 'NGEN', 'NGEN', 'NGEN', 'NGEN', 'NGEN', 'NGEN', 'NGEN', 'NGEN', 'NGEN', 'NGEN', 'NGEN', 'NGEN', 'NGEN', 'NGEN', 'NGEN', 'NGEN', 'NGEN', 'NGEN', 'NGEN', 'NGEN', 'GEN', 'NGEN', 'NGEN', 'NGEN', 'NGEN', 'NGEN', 'NGEN', 'NGEN', 'NGEN', 'NGEN', 'NGEN', 'NGEN', 'NGEN', 'NGEN', 'NGEN', 'NGEN', 'NGEN', 'NGEN', 'NGEN', 'NGEN', 'NGEN', 'NGEN', 'NGEN', 'NGEN', 'NGEN', 'NGEN', 'NGEN', 'NGEN', 'NGEN', 'NGEN', 'NGEN', 'NGEN', 'NGEN', 'NGEN', 'NGEN', 'NGEN', 'NGEN', 'NGEN', 'NGEN', 'NGEN', 'NGEN', 'NGEN', 'NGEN', 'NGEN', 'NGEN', 'NGEN', 'NGEN', 'NGEN', 'NGEN', 'NGEN', 'NGEN', 'NGEN', 'NGEN', 'NGEN', 'NGEN', 'NGEN', 'NGEN', 'NGEN', 'NGEN', 'NGEN', 'NGEN', 'NGEN', 'NGEN', 'NGEN', 'NGEN', 'NGEN', 'NGEN', 'NGEN', 'NGEN', 'NGEN', 'NGEN', 'NGEN', 'NGEN', 'NGEN', 'NGEN', 'NGEN', 'NGEN', 'NGEN', 'NGEN', 'NGEN', 'NGEN', 'NGEN', 'NGEN', 'NGEN', 'NGEN', 'NGEN', 'NGEN', 'NGEN', 'NGEN', 'NGEN', 'NGEN', 'NGEN', 'NGEN', 'NGEN', 'NGEN', 'NGEN', 'NGEN', 'NGEN', 'NGEN', 'NGEN', 'NGEN', 'NGEN', 'NGEN', 'NGEN', 'NGEN', 'NGEN', 'NGEN', 'NGEN', 'NGEN', 'NGEN', 'NGEN', 'NGEN', 'NGEN', 'GEN', 'NGEN', 'NGEN', 'NGEN', 'NGEN', 'NGEN', 'NGEN', 'NGEN', 'NGEN', 'NGEN', 'NGEN', 'NGEN', 'NGEN', 'NGEN', 'NGEN', 'NGEN', 'NGEN', 'NGEN', 'NGEN', 'NGEN', 'NGEN', 'NGEN', 'NGEN', 'NGEN', 'NGEN', 'NGEN', 'NGEN', 'NGEN', 'NGEN', 'NGEN', 'NGEN', 'NGEN', 'NGEN', 'NGEN', 'NGEN', 'NGEN', 'NGEN', 'NGEN', 'GEN', 'NGEN', 'NGEN', 'NGEN', 'GEN', 'NGEN', 'NGEN', 'NGEN', 'NGEN', 'NGEN', 'NGEN', 'NGEN', 'NGEN', 'GEN', 'NGEN', 'NGEN', 'NGEN', 'NGEN', 'GEN', 'GEN', 'GEN', 'NGEN', 'NGEN', 'NGEN', 'GEN', 'NGEN', 'GEN', 'NGEN', 'GEN', 'NGEN', 'NGEN', 'GEN', 'NGEN', 'NGEN', 'NGEN', 'NGEN', 'NGEN', 'NGEN', 'NGEN', 'NGEN', 'NGEN', 'NGEN', 'NGEN', 'NGEN', 'GEN', 'NGEN', 'NGEN', 'NGEN', 'NGEN', 'NGEN', 'NGEN', 'NGEN', 'NGEN', 'NGEN', 'NGEN', 'GEN', 'GEN', 'NGEN', 'NGEN', 'NGEN', 'NGEN', 'NGEN', 'NGEN', 'GEN', 'NGEN', 'NGEN', 'NGEN', 'NGEN', 'GEN', 'GEN', 'GEN', 'NGEN', 'NGEN', 'NGEN', 'NGEN', 'GEN', 'NGEN', 'NGEN', 'NGEN', 'NGEN', 'NGEN', 'NGEN', 'NGEN', 'NGEN', 'NGEN', 'NGEN', 'NGEN', 'NGEN', 'NGEN', 'GEN', 'GEN', 'NGEN', 'GEN', 'NGEN', 'NGEN', 'NGEN', 'GEN', 'GEN', 'NGEN', 'NGEN', 'NGEN', 'NGEN', 'NGEN', 'NGEN', 'GEN', 'NGEN', 'NGEN', 'NGEN', 'GEN', 'NGEN', 'NGEN', 'NGEN', 'NGEN', 'NGEN', 'NGEN', 'NGEN', 'NGEN', 'NGEN', 'NGEN', 'GEN', 'NGEN', 'NGEN', 'NGEN', 'NGEN', 'NGEN', 'NGEN', 'NGEN', 'NGEN', 'GEN', 'GEN', 'GEN', 'NGEN', 'NGEN', 'NGEN', 'NGEN', 'NGEN', 'GEN', 'NGEN', 'NGEN', 'NGEN', 'NGEN', 'NGEN', 'GEN', 'NGEN', 'NGEN', 'GEN', 'NGEN', 'GEN', 'GEN', 'NGEN', 'NGEN', 'NGEN', 'NGEN', 'GEN', 'NGEN', 'GEN', 'NGEN', 'NGEN', 'GEN', 'NGEN', 'NGEN', 'NGEN', 'NGEN', 'NGEN', 'NGEN', 'GEN', 'NGEN', 'NGEN', 'GEN', 'GEN', 'GEN', 'NGEN', 'NGEN', 'NGEN', 'GEN', 'NGEN', 'GEN', 'GEN', 'NGEN', 'NGEN', 'NGEN', 'NGEN', 'GEN', 'NGEN', 'GEN', 'NGEN', 'NGEN', 'NGEN', 'NGEN', 'NGEN', 'GEN', 'GEN', 'NGEN', 'NGEN', 'NGEN', 'NGEN', 'GEN', 'NGEN', 'NGEN', 'NGEN', 'NGEN', 'NGEN', 'NGEN', 'NGEN', 'NGEN', 'NGEN', 'NGEN', 'GEN', 'NGEN', 'NGEN', 'NGEN', 'NGEN', 'GEN', 'GEN', 'NGEN', 'GEN', 'GEN', 'NGEN', 'NGEN', 'GEN', 'GEN', 'NGEN', 'NGEN', 'NGEN', 'NGEN', 'NGEN', 'GEN', 'NGEN', 'NGEN', 'NGEN', 'NGEN', 'GEN', 'NGEN', 'NGEN', 'GEN', 'NGEN', 'NGEN', 'NGEN', 'GEN', 'NGEN', 'NGEN', 'GEN', 'NGEN', 'GEN', 'NGEN', 'GEN', 'NGEN', 'NGEN', 'NGEN', 'NGEN', 'NGEN', 'GEN', 'NGEN', 'NGEN', 'GEN', 'GEN', 'NGEN', 'NGEN', 'GEN', 'NGEN', 'NGEN', 'GEN', 'NGEN', 'NGEN', 'NGEN', 'GEN', 'GEN', 'GEN', 'NGEN', 'NGEN', 'NGEN', 'NGEN', 'NGEN', 'NGEN', 'NGEN', 'NGEN', 'GEN', 'NGEN', 'NGEN', 'NGEN', 'NGEN', 'GEN', 'NGEN', 'NGEN', 'NGEN', 'GEN', 'NGEN', 'NGEN', 'NGEN', 'NGEN', 'NGEN', 'NGEN', 'GEN', 'GEN', 'NGEN', 'NGEN', 'GEN', 'NGEN', 'NGEN', 'NGEN', 'GEN', 'NGEN', 'GEN', 'NGEN', 'NGEN', 'NGEN', 'NGEN', 'NGEN', 'NGEN', 'NGEN', 'GEN', 'NGEN', 'NGEN', 'NGEN', 'NGEN', 'NGEN', 'NGEN', 'NGEN', 'GEN', 'NGEN', 'NGEN', 'NGEN', 'GEN', 'NGEN', 'NGEN', 'NGEN', 'GEN', 'NGEN', 'NGEN', 'NGEN', 'NGEN', 'NGEN', 'NGEN', 'NGEN', 'NGEN', 'GEN', 'GEN', 'NGEN', 'NGEN', 'NGEN', 'NGEN', 'GEN', 'NGEN', 'NGEN', 'NGEN', 'GEN', 'NGEN', 'NGEN', 'NGEN', 'GEN', 'NGEN', 'NGEN', 'GEN', 'NGEN', 'NGEN', 'GEN', 'NGEN', 'GEN', 'NGEN', 'GEN', 'NGEN', 'GEN', 'NGEN', 'GEN', 'NGEN', 'NGEN', 'GEN', 'GEN', 'GEN', 'NGEN', 'GEN', 'NGEN', 'GEN', 'NGEN', 'NGEN', 'NGEN', 'NGEN', 'NGEN', 'GEN', 'GEN', 'NGEN', 'GEN', 'NGEN', 'NGEN', 'NGEN', 'NGEN', 'NGEN', 'NGEN', 'GEN', 'NGEN', 'NGEN', 'NGEN', 'NGEN', 'NGEN', 'NGEN', 'NGEN', 'NGEN', 'GEN', 'NGEN', 'NGEN', 'NGEN', 'GEN', 'NGEN', 'GEN', 'GEN', 'NGEN', 'NGEN', 'NGEN', 'GEN', 'NGEN', 'NGEN', 'NGEN', 'NGEN', 'GEN', 'NGEN', 'NGEN', 'GEN', 'GEN', 'NGEN', 'NGEN', 'NGEN', 'NGEN', 'GEN', 'GEN', 'NGEN', 'GEN', 'NGEN', 'GEN', 'NGEN', 'NGEN', 'GEN', 'GEN', 'NGEN', 'NGEN', 'GEN', 'GEN', 'GEN', 'GEN', 'GEN', 'GEN', 'GEN', 'GEN', 'GEN', 'GEN', 'GEN', 'GEN', 'NGEN', 'NGEN', 'NGEN', 'GEN', 'GEN', 'GEN', 'NGEN', 'NGEN', 'NGEN', 'NGEN', 'GEN', 'GEN', 'GEN', 'NGEN', 'GEN', 'GEN', 'GEN', 'GEN', 'NGEN', 'NGEN', 'GEN', 'GEN', 'NGEN', 'GEN', 'GEN', 'NGEN', 'NGEN', 'GEN', 'GEN', 'NGEN', 'GEN', 'GEN', 'NGEN', 'NGEN', 'NGEN', 'NGEN', 'NGEN', 'GEN', 'NGEN', 'NGEN', 'GEN', 'GEN', 'NGEN', 'NGEN', 'NGEN', 'NGEN', 'NGEN', 'NGEN', 'GEN', 'GEN', 'NGEN', 'NGEN', 'GEN', 'GEN', 'GEN', 'NGEN', 'NGEN', 'GEN', 'GEN', 'NGEN', 'GEN', 'GEN', 'GEN', 'GEN', 'GEN', 'GEN', 'GEN', 'NGEN', 'GEN', 'GEN', 'GEN', 'GEN', 'GEN', 'GEN', 'GEN', 'GEN', 'GEN', 'GEN', 'NGEN', 'GEN', 'GEN', 'GEN', 'NGEN', 'GEN', 'GEN', 'GEN', 'GEN', 'NGEN', 'GEN', 'NGEN', 'NGEN', 'NGEN', 'NGEN', 'NGEN', 'NGEN', 'NGEN', 'NGEN', 'NGEN', 'NGEN', 'NGEN', 'NGEN', 'GEN', 'GEN', 'GEN', 'GEN', 'GEN', 'GEN', 'GEN', 'GEN', 'GEN', 'GEN', 'GEN', 'GEN', 'GEN', 'GEN', 'GEN', 'GEN', 'GEN', 'NGEN', 'GEN', 'GEN', 'GEN', 'NGEN', 'NGEN', 'NGEN', 'NGEN', 'NGEN', 'NGEN', 'NGEN', 'NGEN', 'NGEN', 'NGEN', 'NGEN', 'NGEN', 'NGEN', 'NGEN', 'NGEN', 'NGEN', 'NGEN', 'NGEN', 'NGEN', 'NGEN', 'NGEN', 'NGEN', 'NGEN', 'NGEN', 'NGEN', 'NGEN', 'NGEN', 'NGEN', 'NGEN', 'NGEN', 'NGEN', 'NGEN', 'NGEN', 'NGEN', 'NGEN', 'NGEN', 'NGEN', 'NGEN', 'NGEN', 'NGEN', 'NGEN', 'NGEN', 'NGEN', 'NGEN', 'NGEN', 'NGEN', 'NGEN', 'NGEN', 'NGEN', 'NGEN', 'NGEN', 'NGEN', 'NGEN', 'NGEN', 'NGEN', 'NGEN', 'NGEN', 'NGEN', 'NGEN', 'NGEN', 'NGEN', 'NGEN', 'NGEN', 'NGEN', 'NGEN', 'NGEN', 'NGEN', 'NGEN', 'NGEN', 'NGEN', 'NGEN', 'NGEN', 'NGEN', 'NGEN', 'NGEN', 'NGEN', 'NGEN', 'NGEN', 'NGEN', 'NGEN', 'NGEN', 'NGEN', 'NGEN', 'NGEN', 'NGEN', 'NGEN', 'NGEN', 'NGEN', 'NGEN', 'NGEN', 'NGEN', 'NGEN', 'NGEN', 'NGEN', 'NGEN', 'NGEN', 'NGEN', 'NGEN', 'NGEN', 'NGEN', 'NGEN', 'NGEN', 'NGEN', 'NGEN', 'NGEN', 'NGEN', 'NGEN', 'NGEN', 'NGEN', 'NGEN', 'NGEN', 'NGEN', 'NGEN', 'NGEN', 'NGEN', 'NGEN', 'NGEN', 'NGEN', 'NGEN', 'NGEN', 'NGEN', 'NGEN', 'NGEN', 'NGEN', 'NGEN', 'NGEN', 'NGEN', 'NGEN', 'NGEN', 'NGEN', 'NGEN', 'NGEN', 'NGEN', 'NGEN', 'NGEN', 'NGEN', 'NGEN', 'NGEN', 'NGEN', 'NGEN', 'NGEN', 'NGEN', 'GEN', 'NGEN', 'NGEN', 'NGEN', 'NGEN', 'NGEN', 'NGEN', 'NGEN', 'NGEN', 'NGEN', 'NGEN', 'NGEN', 'NGEN', 'NGEN', 'NGEN', 'NGEN', 'NGEN', 'NGEN', 'NGEN', 'NGEN', 'NGEN', 'NGEN', 'NGEN', 'NGEN', 'NGEN', 'NGEN', 'NGEN', 'NGEN', 'NGEN', 'NGEN', 'NGEN', 'NGEN', 'NGEN', 'NGEN', 'NGEN', 'NGEN', 'NGEN', 'NGEN', 'NGEN', 'NGEN', 'NGEN', 'NGEN', 'NGEN', 'NGEN', 'NGEN', 'NGEN', 'NGEN', 'NGEN', 'NGEN', 'NGEN', 'NGEN', 'NGEN', 'NGEN', 'NGEN', 'NGEN', 'NGEN', 'NGEN', 'NGEN', 'NGEN', 'NGEN', 'NGEN', 'NGEN', 'NGEN', 'NGEN', 'NGEN', 'NGEN', 'NGEN', 'NGEN', 'NGEN', 'NGEN', 'NGEN', 'NGEN', 'NGEN', 'NGEN', 'NGEN', 'NGEN', 'NGEN', 'NGEN', 'NGEN', 'NGEN', 'NGEN', 'NGEN', 'NGEN', 'NGEN', 'NGEN', 'NGEN', 'NGEN', 'NGEN', 'NGEN', 'NGEN', 'NGEN', 'NGEN', 'NGEN', 'NGEN', 'NGEN', 'NGEN', 'NGEN', 'NGEN', 'NGEN', 'NGEN', 'NGEN', 'NGEN', 'NGEN', 'NGEN', 'NGEN', 'NGEN', 'NGEN', 'NGEN', 'NGEN', 'NGEN', 'NGEN', 'NGEN', 'NGEN', 'NGEN', 'NGEN', 'NGEN', 'NGEN', 'NGEN', 'NGEN', 'NGEN', 'NGEN', 'NGEN', 'NGEN', 'NGEN', 'NGEN', 'NGEN', 'NGEN', 'NGEN', 'NGEN', 'NGEN', 'NGEN', 'NGEN', 'NGEN', 'NGEN', 'NGEN', 'NGEN', 'NGEN', 'NGEN', 'NGEN', 'NGEN', 'NGEN', 'NGEN', 'NGEN', 'NGEN', 'NGEN', 'NGEN', 'NGEN', 'NGEN', 'NGEN', 'NGEN', 'NGEN', 'NGEN', 'NGEN', 'NGEN', 'NGEN', 'NGEN', 'NGEN', 'NGEN', 'NGEN', 'NGEN', 'NGEN', 'NGEN', 'NGEN', 'NGEN', 'NGEN', 'NGEN', 'NGEN', 'NGEN', 'NGEN', 'NGEN', 'NGEN', 'NGEN', 'NGEN', 'NGEN', 'NGEN', 'NGEN', 'NGEN', 'NGEN', 'NGEN', 'NGEN', 'NGEN']\n"
          ]
        }
      ]
    },
    {
      "cell_type": "code",
      "metadata": {
        "id": "mk6M1Tmg1Qt2"
      },
      "source": [
        "l = list(zip(X_val_1, true_list_1, preds_list_1, true_list_2, preds_list_2))\n",
        "df = pd.DataFrame(l, columns=['Text Comments', 'Aggression Intent', 'Aggression Prediction', 'Misogyny Intent', 'Misogyny Prediction'])\n",
        "df.to_csv('AggMisDetectionTest.csv')"
      ],
      "execution_count": null,
      "outputs": []
    }
  ]
}